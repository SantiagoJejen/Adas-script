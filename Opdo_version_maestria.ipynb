{
  "nbformat": 4,
  "nbformat_minor": 0,
  "metadata": {
    "colab": {
      "name": "Opdo_version_maestria",
      "provenance": [],
      "collapsed_sections": [
        "GigTNHU0TGdL"
      ],
      "include_colab_link": true
    },
    "kernelspec": {
      "name": "python3",
      "display_name": "Python 3"
    },
    "language_info": {
      "name": "python"
    }
  },
  "cells": [
    {
      "cell_type": "markdown",
      "metadata": {
        "id": "view-in-github",
        "colab_type": "text"
      },
      "source": [
        "<a href=\"https://colab.research.google.com/github/SantiagoJejen/Adas-script/blob/master/Opdo_version_maestria.ipynb\" target=\"_parent\"><img src=\"https://colab.research.google.com/assets/colab-badge.svg\" alt=\"Open In Colab\"/></a>"
      ]
    },
    {
      "cell_type": "code",
      "execution_count": null,
      "metadata": {
        "colab": {
          "base_uri": "https://localhost:8080/"
        },
        "id": "8DWgLADZieQB",
        "outputId": "a8c5449a-36de-4f56-ddcc-9ccc85aa34ac"
      },
      "outputs": [
        {
          "output_type": "stream",
          "name": "stdout",
          "text": [
            "Requirement already satisfied: ortools in /root/.local/lib/python3.7/site-packages (9.3.10459)\n",
            "Requirement already satisfied: numpy>=1.13.3 in /usr/local/lib/python3.7/dist-packages (from ortools) (1.21.5)\n",
            "Requirement already satisfied: protobuf>=3.19.4 in /root/.local/lib/python3.7/site-packages (from ortools) (3.19.4)\n",
            "Requirement already satisfied: absl-py>=0.13 in /usr/local/lib/python3.7/dist-packages (from ortools) (1.0.0)\n",
            "Requirement already satisfied: six in /usr/local/lib/python3.7/dist-packages (from absl-py>=0.13->ortools) (1.15.0)\n"
          ]
        }
      ],
      "source": [
        "!pip install --upgrade --user ortools"
      ]
    },
    {
      "cell_type": "code",
      "source": [
        "from ortools.linear_solver import pywraplp"
      ],
      "metadata": {
        "id": "LC4_4nf5ilqk"
      },
      "execution_count": null,
      "outputs": []
    },
    {
      "cell_type": "code",
      "source": [
        "#print(solver.ExportModelAsLpFormat(False).replace('\\\\', '').replace(',_', ','), sep='\\n')"
      ],
      "metadata": {
        "id": "QIc6KHRyn7g6"
      },
      "execution_count": null,
      "outputs": []
    },
    {
      "cell_type": "markdown",
      "source": [
        ""
      ],
      "metadata": {
        "id": "lCHmkqDTnFiD"
      }
    },
    {
      "cell_type": "code",
      "source": [
        ""
      ],
      "metadata": {
        "id": "CKoyqgReo84A"
      },
      "execution_count": null,
      "outputs": []
    },
    {
      "cell_type": "markdown",
      "source": [
        "Nuevo problema, despacho diario de tarjetas \n"
      ],
      "metadata": {
        "id": "pPRetDBYsZ8E"
      }
    },
    {
      "cell_type": "code",
      "source": [
        "from random import randint"
      ],
      "metadata": {
        "id": "ONrW8sCZshvf"
      },
      "execution_count": null,
      "outputs": []
    },
    {
      "cell_type": "markdown",
      "source": [
        "Declaracion de variables\n"
      ],
      "metadata": {
        "id": "rmQ1XXnTskf8"
      }
    },
    {
      "cell_type": "code",
      "source": [
        "costo_imp_tienda=[10,9,6,11]"
      ],
      "metadata": {
        "id": "j7iVzCwSsmJ_"
      },
      "execution_count": null,
      "outputs": []
    },
    {
      "cell_type": "code",
      "source": [
        "numero_clientes=3\n",
        "numero_dias=31"
      ],
      "metadata": {
        "id": "Uz5Qj4BatzD5"
      },
      "execution_count": null,
      "outputs": []
    },
    {
      "cell_type": "code",
      "source": [
        "distancia_tienda_cliente=[[randint(0, 100) for tienda in costo_imp_tienda] for cliente in range(numero_clientes)]\n"
      ],
      "metadata": {
        "id": "KBF7MI6Jt5_z"
      },
      "execution_count": null,
      "outputs": []
    },
    {
      "cell_type": "code",
      "source": [
        "##costo_imp_tienda=[randint(1, 40) for tienda in range(len(costo_imp_tienda))]\n",
        "##costo_imp_tienda.append(1000)"
      ],
      "metadata": {
        "id": "vg2bt4qdvYh5"
      },
      "execution_count": null,
      "outputs": []
    },
    {
      "cell_type": "code",
      "source": [
        "solver = pywraplp.Solver.CreateSolver('SCIP')"
      ],
      "metadata": {
        "id": "G-hzS1ym4FV_"
      },
      "execution_count": null,
      "outputs": []
    },
    {
      "cell_type": "markdown",
      "source": [
        "#Lista de indices:\n",
        "- i = {1 ... 4}  **La Store i** \n",
        "- j = {1 ... 30}  **El dia J del mes de Abril**\n",
        "- k = {1 ... k}  **El cliente K que solicita la tarjeta**\n",
        "\n"
      ],
      "metadata": {
        "id": "GigTNHU0TGdL"
      }
    },
    {
      "cell_type": "markdown",
      "source": [
        "#Lista de Variables:\n",
        "\n",
        "  \\begin{align}\n",
        "    X_{i,j,k}  \n",
        " \\end{align}\n",
        "\n",
        "\n",
        " \\begin{align}\n",
        "\\text X_{i,j,k} = \\left\\{\n",
        "\\begin{array}{cl}\n",
        "0 &  \\text{Si el cliente k no recibe la tarjeta en el dia j impresa en la tienda k  } \\\\\n",
        "1 & \\text{Si el cliente k recibe la tarjeta en el dia j impresa en la tienda k  }\n",
        "\\end{array}\n",
        "\\right.\n",
        "\\end{align}"
      ],
      "metadata": {
        "id": "ta1VRgjWUg9f"
      }
    },
    {
      "cell_type": "code",
      "source": [
        "#x[i, j, k] = solver.IntVar(0, 1, f’x[{i}, {j}]‘)\n",
        "#x = [[[solver.IntVar(0, 1, f’x[{cliente}, {dia},{tienda} ]‘) for tienda in range(len(costo_imp_tienda)) ] for dia in range(0,31) ] for cliente  in range(numero_clientes)]\n",
        "x = [[[solver.IntVar(0, 1, f'x[{tienda}, {dia},{cliente} ]') for cliente in range(numero_clientes) ] for dia in range(numero_dias) ] for tienda  in range(len(costo_imp_tienda))]\n",
        "solver.variables()"
      ],
      "metadata": {
        "id": "DPfxUJO8x7z-",
        "colab": {
          "base_uri": "https://localhost:8080/"
        },
        "outputId": "de79d14b-b5af-466a-dbef-b5682cd57358"
      },
      "execution_count": null,
      "outputs": [
        {
          "output_type": "execute_result",
          "data": {
            "text/plain": [
              "[x[0, 0,0 ],\n",
              " x[0, 0,1 ],\n",
              " x[0, 0,2 ],\n",
              " x[0, 1,0 ],\n",
              " x[0, 1,1 ],\n",
              " x[0, 1,2 ],\n",
              " x[0, 2,0 ],\n",
              " x[0, 2,1 ],\n",
              " x[0, 2,2 ],\n",
              " x[0, 3,0 ],\n",
              " x[0, 3,1 ],\n",
              " x[0, 3,2 ],\n",
              " x[0, 4,0 ],\n",
              " x[0, 4,1 ],\n",
              " x[0, 4,2 ],\n",
              " x[0, 5,0 ],\n",
              " x[0, 5,1 ],\n",
              " x[0, 5,2 ],\n",
              " x[0, 6,0 ],\n",
              " x[0, 6,1 ],\n",
              " x[0, 6,2 ],\n",
              " x[0, 7,0 ],\n",
              " x[0, 7,1 ],\n",
              " x[0, 7,2 ],\n",
              " x[0, 8,0 ],\n",
              " x[0, 8,1 ],\n",
              " x[0, 8,2 ],\n",
              " x[0, 9,0 ],\n",
              " x[0, 9,1 ],\n",
              " x[0, 9,2 ],\n",
              " x[0, 10,0 ],\n",
              " x[0, 10,1 ],\n",
              " x[0, 10,2 ],\n",
              " x[0, 11,0 ],\n",
              " x[0, 11,1 ],\n",
              " x[0, 11,2 ],\n",
              " x[0, 12,0 ],\n",
              " x[0, 12,1 ],\n",
              " x[0, 12,2 ],\n",
              " x[0, 13,0 ],\n",
              " x[0, 13,1 ],\n",
              " x[0, 13,2 ],\n",
              " x[0, 14,0 ],\n",
              " x[0, 14,1 ],\n",
              " x[0, 14,2 ],\n",
              " x[0, 15,0 ],\n",
              " x[0, 15,1 ],\n",
              " x[0, 15,2 ],\n",
              " x[0, 16,0 ],\n",
              " x[0, 16,1 ],\n",
              " x[0, 16,2 ],\n",
              " x[0, 17,0 ],\n",
              " x[0, 17,1 ],\n",
              " x[0, 17,2 ],\n",
              " x[0, 18,0 ],\n",
              " x[0, 18,1 ],\n",
              " x[0, 18,2 ],\n",
              " x[0, 19,0 ],\n",
              " x[0, 19,1 ],\n",
              " x[0, 19,2 ],\n",
              " x[0, 20,0 ],\n",
              " x[0, 20,1 ],\n",
              " x[0, 20,2 ],\n",
              " x[0, 21,0 ],\n",
              " x[0, 21,1 ],\n",
              " x[0, 21,2 ],\n",
              " x[0, 22,0 ],\n",
              " x[0, 22,1 ],\n",
              " x[0, 22,2 ],\n",
              " x[0, 23,0 ],\n",
              " x[0, 23,1 ],\n",
              " x[0, 23,2 ],\n",
              " x[0, 24,0 ],\n",
              " x[0, 24,1 ],\n",
              " x[0, 24,2 ],\n",
              " x[0, 25,0 ],\n",
              " x[0, 25,1 ],\n",
              " x[0, 25,2 ],\n",
              " x[0, 26,0 ],\n",
              " x[0, 26,1 ],\n",
              " x[0, 26,2 ],\n",
              " x[0, 27,0 ],\n",
              " x[0, 27,1 ],\n",
              " x[0, 27,2 ],\n",
              " x[0, 28,0 ],\n",
              " x[0, 28,1 ],\n",
              " x[0, 28,2 ],\n",
              " x[0, 29,0 ],\n",
              " x[0, 29,1 ],\n",
              " x[0, 29,2 ],\n",
              " x[0, 30,0 ],\n",
              " x[0, 30,1 ],\n",
              " x[0, 30,2 ],\n",
              " x[1, 0,0 ],\n",
              " x[1, 0,1 ],\n",
              " x[1, 0,2 ],\n",
              " x[1, 1,0 ],\n",
              " x[1, 1,1 ],\n",
              " x[1, 1,2 ],\n",
              " x[1, 2,0 ],\n",
              " x[1, 2,1 ],\n",
              " x[1, 2,2 ],\n",
              " x[1, 3,0 ],\n",
              " x[1, 3,1 ],\n",
              " x[1, 3,2 ],\n",
              " x[1, 4,0 ],\n",
              " x[1, 4,1 ],\n",
              " x[1, 4,2 ],\n",
              " x[1, 5,0 ],\n",
              " x[1, 5,1 ],\n",
              " x[1, 5,2 ],\n",
              " x[1, 6,0 ],\n",
              " x[1, 6,1 ],\n",
              " x[1, 6,2 ],\n",
              " x[1, 7,0 ],\n",
              " x[1, 7,1 ],\n",
              " x[1, 7,2 ],\n",
              " x[1, 8,0 ],\n",
              " x[1, 8,1 ],\n",
              " x[1, 8,2 ],\n",
              " x[1, 9,0 ],\n",
              " x[1, 9,1 ],\n",
              " x[1, 9,2 ],\n",
              " x[1, 10,0 ],\n",
              " x[1, 10,1 ],\n",
              " x[1, 10,2 ],\n",
              " x[1, 11,0 ],\n",
              " x[1, 11,1 ],\n",
              " x[1, 11,2 ],\n",
              " x[1, 12,0 ],\n",
              " x[1, 12,1 ],\n",
              " x[1, 12,2 ],\n",
              " x[1, 13,0 ],\n",
              " x[1, 13,1 ],\n",
              " x[1, 13,2 ],\n",
              " x[1, 14,0 ],\n",
              " x[1, 14,1 ],\n",
              " x[1, 14,2 ],\n",
              " x[1, 15,0 ],\n",
              " x[1, 15,1 ],\n",
              " x[1, 15,2 ],\n",
              " x[1, 16,0 ],\n",
              " x[1, 16,1 ],\n",
              " x[1, 16,2 ],\n",
              " x[1, 17,0 ],\n",
              " x[1, 17,1 ],\n",
              " x[1, 17,2 ],\n",
              " x[1, 18,0 ],\n",
              " x[1, 18,1 ],\n",
              " x[1, 18,2 ],\n",
              " x[1, 19,0 ],\n",
              " x[1, 19,1 ],\n",
              " x[1, 19,2 ],\n",
              " x[1, 20,0 ],\n",
              " x[1, 20,1 ],\n",
              " x[1, 20,2 ],\n",
              " x[1, 21,0 ],\n",
              " x[1, 21,1 ],\n",
              " x[1, 21,2 ],\n",
              " x[1, 22,0 ],\n",
              " x[1, 22,1 ],\n",
              " x[1, 22,2 ],\n",
              " x[1, 23,0 ],\n",
              " x[1, 23,1 ],\n",
              " x[1, 23,2 ],\n",
              " x[1, 24,0 ],\n",
              " x[1, 24,1 ],\n",
              " x[1, 24,2 ],\n",
              " x[1, 25,0 ],\n",
              " x[1, 25,1 ],\n",
              " x[1, 25,2 ],\n",
              " x[1, 26,0 ],\n",
              " x[1, 26,1 ],\n",
              " x[1, 26,2 ],\n",
              " x[1, 27,0 ],\n",
              " x[1, 27,1 ],\n",
              " x[1, 27,2 ],\n",
              " x[1, 28,0 ],\n",
              " x[1, 28,1 ],\n",
              " x[1, 28,2 ],\n",
              " x[1, 29,0 ],\n",
              " x[1, 29,1 ],\n",
              " x[1, 29,2 ],\n",
              " x[1, 30,0 ],\n",
              " x[1, 30,1 ],\n",
              " x[1, 30,2 ],\n",
              " x[2, 0,0 ],\n",
              " x[2, 0,1 ],\n",
              " x[2, 0,2 ],\n",
              " x[2, 1,0 ],\n",
              " x[2, 1,1 ],\n",
              " x[2, 1,2 ],\n",
              " x[2, 2,0 ],\n",
              " x[2, 2,1 ],\n",
              " x[2, 2,2 ],\n",
              " x[2, 3,0 ],\n",
              " x[2, 3,1 ],\n",
              " x[2, 3,2 ],\n",
              " x[2, 4,0 ],\n",
              " x[2, 4,1 ],\n",
              " x[2, 4,2 ],\n",
              " x[2, 5,0 ],\n",
              " x[2, 5,1 ],\n",
              " x[2, 5,2 ],\n",
              " x[2, 6,0 ],\n",
              " x[2, 6,1 ],\n",
              " x[2, 6,2 ],\n",
              " x[2, 7,0 ],\n",
              " x[2, 7,1 ],\n",
              " x[2, 7,2 ],\n",
              " x[2, 8,0 ],\n",
              " x[2, 8,1 ],\n",
              " x[2, 8,2 ],\n",
              " x[2, 9,0 ],\n",
              " x[2, 9,1 ],\n",
              " x[2, 9,2 ],\n",
              " x[2, 10,0 ],\n",
              " x[2, 10,1 ],\n",
              " x[2, 10,2 ],\n",
              " x[2, 11,0 ],\n",
              " x[2, 11,1 ],\n",
              " x[2, 11,2 ],\n",
              " x[2, 12,0 ],\n",
              " x[2, 12,1 ],\n",
              " x[2, 12,2 ],\n",
              " x[2, 13,0 ],\n",
              " x[2, 13,1 ],\n",
              " x[2, 13,2 ],\n",
              " x[2, 14,0 ],\n",
              " x[2, 14,1 ],\n",
              " x[2, 14,2 ],\n",
              " x[2, 15,0 ],\n",
              " x[2, 15,1 ],\n",
              " x[2, 15,2 ],\n",
              " x[2, 16,0 ],\n",
              " x[2, 16,1 ],\n",
              " x[2, 16,2 ],\n",
              " x[2, 17,0 ],\n",
              " x[2, 17,1 ],\n",
              " x[2, 17,2 ],\n",
              " x[2, 18,0 ],\n",
              " x[2, 18,1 ],\n",
              " x[2, 18,2 ],\n",
              " x[2, 19,0 ],\n",
              " x[2, 19,1 ],\n",
              " x[2, 19,2 ],\n",
              " x[2, 20,0 ],\n",
              " x[2, 20,1 ],\n",
              " x[2, 20,2 ],\n",
              " x[2, 21,0 ],\n",
              " x[2, 21,1 ],\n",
              " x[2, 21,2 ],\n",
              " x[2, 22,0 ],\n",
              " x[2, 22,1 ],\n",
              " x[2, 22,2 ],\n",
              " x[2, 23,0 ],\n",
              " x[2, 23,1 ],\n",
              " x[2, 23,2 ],\n",
              " x[2, 24,0 ],\n",
              " x[2, 24,1 ],\n",
              " x[2, 24,2 ],\n",
              " x[2, 25,0 ],\n",
              " x[2, 25,1 ],\n",
              " x[2, 25,2 ],\n",
              " x[2, 26,0 ],\n",
              " x[2, 26,1 ],\n",
              " x[2, 26,2 ],\n",
              " x[2, 27,0 ],\n",
              " x[2, 27,1 ],\n",
              " x[2, 27,2 ],\n",
              " x[2, 28,0 ],\n",
              " x[2, 28,1 ],\n",
              " x[2, 28,2 ],\n",
              " x[2, 29,0 ],\n",
              " x[2, 29,1 ],\n",
              " x[2, 29,2 ],\n",
              " x[2, 30,0 ],\n",
              " x[2, 30,1 ],\n",
              " x[2, 30,2 ],\n",
              " x[3, 0,0 ],\n",
              " x[3, 0,1 ],\n",
              " x[3, 0,2 ],\n",
              " x[3, 1,0 ],\n",
              " x[3, 1,1 ],\n",
              " x[3, 1,2 ],\n",
              " x[3, 2,0 ],\n",
              " x[3, 2,1 ],\n",
              " x[3, 2,2 ],\n",
              " x[3, 3,0 ],\n",
              " x[3, 3,1 ],\n",
              " x[3, 3,2 ],\n",
              " x[3, 4,0 ],\n",
              " x[3, 4,1 ],\n",
              " x[3, 4,2 ],\n",
              " x[3, 5,0 ],\n",
              " x[3, 5,1 ],\n",
              " x[3, 5,2 ],\n",
              " x[3, 6,0 ],\n",
              " x[3, 6,1 ],\n",
              " x[3, 6,2 ],\n",
              " x[3, 7,0 ],\n",
              " x[3, 7,1 ],\n",
              " x[3, 7,2 ],\n",
              " x[3, 8,0 ],\n",
              " x[3, 8,1 ],\n",
              " x[3, 8,2 ],\n",
              " x[3, 9,0 ],\n",
              " x[3, 9,1 ],\n",
              " x[3, 9,2 ],\n",
              " x[3, 10,0 ],\n",
              " x[3, 10,1 ],\n",
              " x[3, 10,2 ],\n",
              " x[3, 11,0 ],\n",
              " x[3, 11,1 ],\n",
              " x[3, 11,2 ],\n",
              " x[3, 12,0 ],\n",
              " x[3, 12,1 ],\n",
              " x[3, 12,2 ],\n",
              " x[3, 13,0 ],\n",
              " x[3, 13,1 ],\n",
              " x[3, 13,2 ],\n",
              " x[3, 14,0 ],\n",
              " x[3, 14,1 ],\n",
              " x[3, 14,2 ],\n",
              " x[3, 15,0 ],\n",
              " x[3, 15,1 ],\n",
              " x[3, 15,2 ],\n",
              " x[3, 16,0 ],\n",
              " x[3, 16,1 ],\n",
              " x[3, 16,2 ],\n",
              " x[3, 17,0 ],\n",
              " x[3, 17,1 ],\n",
              " x[3, 17,2 ],\n",
              " x[3, 18,0 ],\n",
              " x[3, 18,1 ],\n",
              " x[3, 18,2 ],\n",
              " x[3, 19,0 ],\n",
              " x[3, 19,1 ],\n",
              " x[3, 19,2 ],\n",
              " x[3, 20,0 ],\n",
              " x[3, 20,1 ],\n",
              " x[3, 20,2 ],\n",
              " x[3, 21,0 ],\n",
              " x[3, 21,1 ],\n",
              " x[3, 21,2 ],\n",
              " x[3, 22,0 ],\n",
              " x[3, 22,1 ],\n",
              " x[3, 22,2 ],\n",
              " x[3, 23,0 ],\n",
              " x[3, 23,1 ],\n",
              " x[3, 23,2 ],\n",
              " x[3, 24,0 ],\n",
              " x[3, 24,1 ],\n",
              " x[3, 24,2 ],\n",
              " x[3, 25,0 ],\n",
              " x[3, 25,1 ],\n",
              " x[3, 25,2 ],\n",
              " x[3, 26,0 ],\n",
              " x[3, 26,1 ],\n",
              " x[3, 26,2 ],\n",
              " x[3, 27,0 ],\n",
              " x[3, 27,1 ],\n",
              " x[3, 27,2 ],\n",
              " x[3, 28,0 ],\n",
              " x[3, 28,1 ],\n",
              " x[3, 28,2 ],\n",
              " x[3, 29,0 ],\n",
              " x[3, 29,1 ],\n",
              " x[3, 29,2 ],\n",
              " x[3, 30,0 ],\n",
              " x[3, 30,1 ],\n",
              " x[3, 30,2 ]]"
            ]
          },
          "metadata": {},
          "execution_count": 62
        }
      ]
    },
    {
      "cell_type": "markdown",
      "source": [
        "#Funcion Objetivo:\n",
        "\n",
        "\\begin{align}\n",
        "        \\text{Min: C} =  &\\sum_{i=1} \\sum_{j=1} \\sum_{k=1} X_{i,j,k} * CosImpre(i) + CostoKm \\sum_{i=1} \\sum_{j=1} \\sum_{k=1} X_{i,j,k} * DistTiendaCliente(i,k) \\\\[1em]\n",
        "        \\text{ }  \n",
        "    \\end{align}"
      ],
      "metadata": {
        "id": "Z6ybinnaWnw-"
      }
    },
    {
      "cell_type": "code",
      "source": [
        "longitud_tienda=len(costo_imp_tienda)\n",
        "costo_km=2"
      ],
      "metadata": {
        "id": "XLmcn7chrVGQ"
      },
      "execution_count": null,
      "outputs": []
    },
    {
      "cell_type": "code",
      "source": [
        "objetivo = solver.Objective()\n",
        "for i in range(longitud_tienda):\n",
        "  for j in range(numero_dias):\n",
        "    for k in range(numero_clientes):\n",
        "      objetivo.SetCoefficient(x[i][j][k], costo_imp_tienda[i])"
      ],
      "metadata": {
        "id": "3N4VFcIRW8vW"
      },
      "execution_count": null,
      "outputs": []
    },
    {
      "cell_type": "code",
      "source": [
        "for i in range(longitud_tienda):\n",
        "  for j in range(numero_dias):\n",
        "    for k in range(numero_clientes):\n",
        "      objetivo.SetCoefficient(x[i][j][k], costo_km*distancia_tienda_cliente[k][i])"
      ],
      "metadata": {
        "id": "Do2xRY7Ho8FH"
      },
      "execution_count": null,
      "outputs": []
    },
    {
      "cell_type": "code",
      "source": [
        "objetivo.SetMinimization()"
      ],
      "metadata": {
        "id": "49UR8WYKatPo"
      },
      "execution_count": null,
      "outputs": []
    },
    {
      "cell_type": "markdown",
      "source": [
        "#Restrcciones:\n",
        "\n",
        "\n",
        "\n"
      ],
      "metadata": {
        "id": "bDXtubDObqZz"
      }
    },
    {
      "cell_type": "markdown",
      "source": [
        "## Capacidad Maxima por tienda diaria\n",
        "Cada tienda tiene una capacidad de impresion diaria"
      ],
      "metadata": {
        "id": "mO2RBILxb2pA"
      }
    },
    {
      "cell_type": "code",
      "source": [
        "for j in range(numero_dias):  \n",
        "    solver.Add(solver.Sum([x[i][j][k] for i in range(longitud_tienda) for k in range(numero_clientes)])<=10)\n"
      ],
      "metadata": {
        "id": "oYfLA8DPbuEh"
      },
      "execution_count": null,
      "outputs": []
    },
    {
      "cell_type": "markdown",
      "source": [
        "## Restriccion de entregar tarjetas\n",
        "Las tarjetas se deben entregar o dejar pendientes para el siguiente mes y un cliente solo debe recibir una tarjeta\n"
      ],
      "metadata": {
        "id": "BO0pdeOndlzz"
      }
    },
    {
      "cell_type": "code",
      "source": [
        "for k in range(numero_clientes):\n",
        "  solver.Add(solver.Sum([x[i][j][k] for i in range(longitud_tienda) for j in range(31)])==1)"
      ],
      "metadata": {
        "id": "nGMuWhXJdtmD"
      },
      "execution_count": null,
      "outputs": []
    },
    {
      "cell_type": "code",
      "source": [
        ""
      ],
      "metadata": {
        "id": "y6zAWi43eIqj"
      },
      "execution_count": null,
      "outputs": []
    },
    {
      "cell_type": "markdown",
      "source": [
        "#Casos de usuarios que quieren recibir la tarjeta en un día especifico\n",
        "Algunos usuarios quieren programaron la entrega para un día específico"
      ],
      "metadata": {
        "id": "SZkoYMuPeI5N"
      }
    },
    {
      "cell_type": "code",
      "source": [
        "SchedulesClientes = [[2,6],[3,6],[7,6],[9,8]]\n",
        "\n",
        "for cliente in SchedulesClientes:\n",
        "  solver.Add(solver.Sum([x[i][cliente[0]][cliente[1]] for i in range(3)])==1)"
      ],
      "metadata": {
        "id": "O2rQkIlnvM1p",
        "colab": {
          "base_uri": "https://localhost:8080/",
          "height": 293
        },
        "outputId": "6da97d5d-ecd7-48c1-8043-2d4ab68df8f9"
      },
      "execution_count": null,
      "outputs": [
        {
          "output_type": "error",
          "ename": "IndexError",
          "evalue": "ignored",
          "traceback": [
            "\u001b[0;31m---------------------------------------------------------------------------\u001b[0m",
            "\u001b[0;31mIndexError\u001b[0m                                Traceback (most recent call last)",
            "\u001b[0;32m<ipython-input-69-f362737a4bf1>\u001b[0m in \u001b[0;36m<module>\u001b[0;34m()\u001b[0m\n\u001b[1;32m      2\u001b[0m \u001b[0;34m\u001b[0m\u001b[0m\n\u001b[1;32m      3\u001b[0m \u001b[0;32mfor\u001b[0m \u001b[0mcliente\u001b[0m \u001b[0;32min\u001b[0m \u001b[0mSchedulesClientes\u001b[0m\u001b[0;34m:\u001b[0m\u001b[0;34m\u001b[0m\u001b[0;34m\u001b[0m\u001b[0m\n\u001b[0;32m----> 4\u001b[0;31m   \u001b[0msolver\u001b[0m\u001b[0;34m.\u001b[0m\u001b[0mAdd\u001b[0m\u001b[0;34m(\u001b[0m\u001b[0msolver\u001b[0m\u001b[0;34m.\u001b[0m\u001b[0mSum\u001b[0m\u001b[0;34m(\u001b[0m\u001b[0;34m[\u001b[0m\u001b[0mx\u001b[0m\u001b[0;34m[\u001b[0m\u001b[0mi\u001b[0m\u001b[0;34m]\u001b[0m\u001b[0;34m[\u001b[0m\u001b[0mcliente\u001b[0m\u001b[0;34m[\u001b[0m\u001b[0;36m0\u001b[0m\u001b[0;34m]\u001b[0m\u001b[0;34m]\u001b[0m\u001b[0;34m[\u001b[0m\u001b[0mcliente\u001b[0m\u001b[0;34m[\u001b[0m\u001b[0;36m1\u001b[0m\u001b[0;34m]\u001b[0m\u001b[0;34m]\u001b[0m \u001b[0;32mfor\u001b[0m \u001b[0mi\u001b[0m \u001b[0;32min\u001b[0m \u001b[0mrange\u001b[0m\u001b[0;34m(\u001b[0m\u001b[0;36m3\u001b[0m\u001b[0;34m)\u001b[0m\u001b[0;34m]\u001b[0m\u001b[0;34m)\u001b[0m\u001b[0;34m==\u001b[0m\u001b[0;36m1\u001b[0m\u001b[0;34m)\u001b[0m\u001b[0;34m\u001b[0m\u001b[0;34m\u001b[0m\u001b[0m\n\u001b[0m",
            "\u001b[0;32m<ipython-input-69-f362737a4bf1>\u001b[0m in \u001b[0;36m<listcomp>\u001b[0;34m(.0)\u001b[0m\n\u001b[1;32m      2\u001b[0m \u001b[0;34m\u001b[0m\u001b[0m\n\u001b[1;32m      3\u001b[0m \u001b[0;32mfor\u001b[0m \u001b[0mcliente\u001b[0m \u001b[0;32min\u001b[0m \u001b[0mSchedulesClientes\u001b[0m\u001b[0;34m:\u001b[0m\u001b[0;34m\u001b[0m\u001b[0;34m\u001b[0m\u001b[0m\n\u001b[0;32m----> 4\u001b[0;31m   \u001b[0msolver\u001b[0m\u001b[0;34m.\u001b[0m\u001b[0mAdd\u001b[0m\u001b[0;34m(\u001b[0m\u001b[0msolver\u001b[0m\u001b[0;34m.\u001b[0m\u001b[0mSum\u001b[0m\u001b[0;34m(\u001b[0m\u001b[0;34m[\u001b[0m\u001b[0mx\u001b[0m\u001b[0;34m[\u001b[0m\u001b[0mi\u001b[0m\u001b[0;34m]\u001b[0m\u001b[0;34m[\u001b[0m\u001b[0mcliente\u001b[0m\u001b[0;34m[\u001b[0m\u001b[0;36m0\u001b[0m\u001b[0;34m]\u001b[0m\u001b[0;34m]\u001b[0m\u001b[0;34m[\u001b[0m\u001b[0mcliente\u001b[0m\u001b[0;34m[\u001b[0m\u001b[0;36m1\u001b[0m\u001b[0;34m]\u001b[0m\u001b[0;34m]\u001b[0m \u001b[0;32mfor\u001b[0m \u001b[0mi\u001b[0m \u001b[0;32min\u001b[0m \u001b[0mrange\u001b[0m\u001b[0;34m(\u001b[0m\u001b[0;36m3\u001b[0m\u001b[0;34m)\u001b[0m\u001b[0;34m]\u001b[0m\u001b[0;34m)\u001b[0m\u001b[0;34m==\u001b[0m\u001b[0;36m1\u001b[0m\u001b[0;34m)\u001b[0m\u001b[0;34m\u001b[0m\u001b[0;34m\u001b[0m\u001b[0m\n\u001b[0m",
            "\u001b[0;31mIndexError\u001b[0m: list index out of range"
          ]
        }
      ]
    },
    {
      "cell_type": "code",
      "source": [
        "gráfica numero tarjeta entregadas por tienda /dia "
      ],
      "metadata": {
        "id": "Sugp6QlneWv7"
      },
      "execution_count": null,
      "outputs": []
    }
  ]
}